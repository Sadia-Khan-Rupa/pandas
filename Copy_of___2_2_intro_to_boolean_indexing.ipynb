{
  "cells": [
    {
      "cell_type": "markdown",
      "metadata": {
        "id": "6qQxLNmhLFGV"
      },
      "source": [
        "# Introduction to boolean indexing"
      ]
    },
    {
      "cell_type": "code",
      "execution_count": 1,
      "metadata": {
        "id": "tbHnJGoRL8r-"
      },
      "outputs": [
        {
          "name": "stderr",
          "output_type": "stream",
          "text": [
            "/var/folders/yn/jzzqv3s17t5_glr9g2gqxmyh0000gn/T/ipykernel_31971/4080736814.py:1: DeprecationWarning: \n",
            "Pyarrow will become a required dependency of pandas in the next major release of pandas (pandas 3.0),\n",
            "(to allow more performant data types, such as the Arrow string type, and better interoperability with other libraries)\n",
            "but was not found to be installed on your system.\n",
            "If this would cause problems for you,\n",
            "please provide us feedback at https://github.com/pandas-dev/pandas/issues/54466\n",
            "        \n",
            "  import pandas as pd\n"
          ]
        }
      ],
      "source": [
        "import pandas as pd"
      ]
    },
    {
      "cell_type": "markdown",
      "metadata": {
        "id": "JuurWr-S9M7W"
      },
      "source": [
        "We will create a `people` DataFrame."
      ]
    },
    {
      "cell_type": "code",
      "execution_count": 2,
      "metadata": {
        "colab": {
          "base_uri": "https://localhost:8080/",
          "height": 206
        },
        "id": "6qXOm8109M7c",
        "jupyter": {
          "outputs_hidden": true
        },
        "outputId": "119b3d7f-1645-4f33-c3e5-10d49e0ae3f8"
      },
      "outputs": [
        {
          "data": {
            "text/html": [
              "<div>\n",
              "<style scoped>\n",
              "    .dataframe tbody tr th:only-of-type {\n",
              "        vertical-align: middle;\n",
              "    }\n",
              "\n",
              "    .dataframe tbody tr th {\n",
              "        vertical-align: top;\n",
              "    }\n",
              "\n",
              "    .dataframe thead th {\n",
              "        text-align: right;\n",
              "    }\n",
              "</style>\n",
              "<table border=\"1\" class=\"dataframe\">\n",
              "  <thead>\n",
              "    <tr style=\"text-align: right;\">\n",
              "      <th></th>\n",
              "      <th>name</th>\n",
              "      <th>age</th>\n",
              "      <th>country</th>\n",
              "      <th>siblings</th>\n",
              "      <th>favourite_colour</th>\n",
              "    </tr>\n",
              "  </thead>\n",
              "  <tbody>\n",
              "    <tr>\n",
              "      <th>0</th>\n",
              "      <td>Erika Schumacher</td>\n",
              "      <td>22</td>\n",
              "      <td>DE</td>\n",
              "      <td>2</td>\n",
              "      <td>Red</td>\n",
              "    </tr>\n",
              "    <tr>\n",
              "      <th>1</th>\n",
              "      <td>Javi López</td>\n",
              "      <td>50</td>\n",
              "      <td>ES</td>\n",
              "      <td>0</td>\n",
              "      <td>Yellow</td>\n",
              "    </tr>\n",
              "    <tr>\n",
              "      <th>2</th>\n",
              "      <td>Maria Rovira</td>\n",
              "      <td>23</td>\n",
              "      <td>ES</td>\n",
              "      <td>4</td>\n",
              "      <td>Yellow</td>\n",
              "    </tr>\n",
              "    <tr>\n",
              "      <th>3</th>\n",
              "      <td>Ana Gromek</td>\n",
              "      <td>29</td>\n",
              "      <td>PL</td>\n",
              "      <td>1</td>\n",
              "      <td>Blue</td>\n",
              "    </tr>\n",
              "    <tr>\n",
              "      <th>4</th>\n",
              "      <td>Shekhar Biswas</td>\n",
              "      <td>44</td>\n",
              "      <td>IN</td>\n",
              "      <td>1</td>\n",
              "      <td>Red</td>\n",
              "    </tr>\n",
              "  </tbody>\n",
              "</table>\n",
              "</div>"
            ],
            "text/plain": [
              "               name  age country  siblings favourite_colour\n",
              "0  Erika Schumacher   22      DE         2              Red\n",
              "1        Javi López   50      ES         0           Yellow\n",
              "2      Maria Rovira   23      ES         4           Yellow\n",
              "3        Ana Gromek   29      PL         1             Blue\n",
              "4    Shekhar Biswas   44      IN         1              Red"
            ]
          },
          "execution_count": 2,
          "metadata": {},
          "output_type": "execute_result"
        }
      ],
      "source": [
        "names = [\"Erika Schumacher\", \"Javi López\", \"Maria Rovira\", \"Ana Gromek\",\n",
        "         \"Shekhar Biswas\", \"Muriel Adams\", \"Saira Polom\", \"Alex Kubiak\",\n",
        "         \"Kit Ching\", \"Dog Woof\"]\n",
        "ages = [22, 50, 23, 29, 44, 30, 25, 71, 35, 2]\n",
        "nations = [\"DE\", \"ES\", \"ES\", \"PL\", \"IN\", \"FR\", \"IN\", \"PL\", \"UK\", \"XX\"]\n",
        "siblings = [2, 0, 4, 1, 1, 2, 3, 7, 0, 9]\n",
        "colours = [\"Red\", \"Yellow\", \"Yellow\", \"Blue\", \"Red\", \"Yellow\", \"Blue\", \"Blue\", \"Red\", \"Gray\"]\n",
        "\n",
        "\n",
        "\n",
        "people = pd.DataFrame({\"name\":names,\n",
        "                       \"age\":ages,\n",
        "                       \"country\":nations,\n",
        "                       \"siblings\":siblings,\n",
        "                       \"favourite_colour\":colours\n",
        "                      })\n",
        "\n",
        "people.head()"
      ]
    },
    {
      "cell_type": "markdown",
      "metadata": {
        "id": "HXGWSKyc9M7g"
      },
      "source": [
        "## 1.&nbsp;Filtering data based on conditions\n",
        "\n",
        "Let's say we want to select only the rows of those people whose favourite colour is \"Yellow\".\n",
        "\n",
        "If we just type the condition `favourite_colour == \"Yellow\"`, we will create a pandas Series of boolean values of the same length as the rows in the DataFrame. The value in the Series is `True` for rows where the condition is met, and `False` otherwise."
      ]
    },
    {
      "cell_type": "code",
      "execution_count": 3,
      "metadata": {
        "colab": {
          "base_uri": "https://localhost:8080/"
        },
        "id": "V3uUeDxv9M7g",
        "jupyter": {
          "outputs_hidden": true
        },
        "outputId": "af9345a1-9071-4df1-b63d-c18cfba3ec0e"
      },
      "outputs": [
        {
          "data": {
            "text/plain": [
              "0    False\n",
              "1     True\n",
              "2     True\n",
              "3    False\n",
              "4    False\n",
              "5     True\n",
              "6    False\n",
              "7    False\n",
              "8    False\n",
              "9    False\n",
              "Name: favourite_colour, dtype: bool"
            ]
          },
          "execution_count": 3,
          "metadata": {},
          "output_type": "execute_result"
        }
      ],
      "source": [
        "people[\"favourite_colour\"] == \"Yellow\""
      ]
    },
    {
      "cell_type": "code",
      "execution_count": 4,
      "metadata": {
        "colab": {
          "base_uri": "https://localhost:8080/",
          "height": 363
        },
        "id": "rTTO4qJIftiI",
        "outputId": "f09d142c-2c49-4b73-c81b-037469a0be53"
      },
      "outputs": [
        {
          "data": {
            "text/html": [
              "<div>\n",
              "<style scoped>\n",
              "    .dataframe tbody tr th:only-of-type {\n",
              "        vertical-align: middle;\n",
              "    }\n",
              "\n",
              "    .dataframe tbody tr th {\n",
              "        vertical-align: top;\n",
              "    }\n",
              "\n",
              "    .dataframe thead th {\n",
              "        text-align: right;\n",
              "    }\n",
              "</style>\n",
              "<table border=\"1\" class=\"dataframe\">\n",
              "  <thead>\n",
              "    <tr style=\"text-align: right;\">\n",
              "      <th></th>\n",
              "      <th>name</th>\n",
              "      <th>age</th>\n",
              "      <th>country</th>\n",
              "      <th>siblings</th>\n",
              "      <th>favourite_colour</th>\n",
              "    </tr>\n",
              "  </thead>\n",
              "  <tbody>\n",
              "    <tr>\n",
              "      <th>0</th>\n",
              "      <td>Erika Schumacher</td>\n",
              "      <td>22</td>\n",
              "      <td>DE</td>\n",
              "      <td>2</td>\n",
              "      <td>Red</td>\n",
              "    </tr>\n",
              "    <tr>\n",
              "      <th>1</th>\n",
              "      <td>Javi López</td>\n",
              "      <td>50</td>\n",
              "      <td>ES</td>\n",
              "      <td>0</td>\n",
              "      <td>Yellow</td>\n",
              "    </tr>\n",
              "    <tr>\n",
              "      <th>2</th>\n",
              "      <td>Maria Rovira</td>\n",
              "      <td>23</td>\n",
              "      <td>ES</td>\n",
              "      <td>4</td>\n",
              "      <td>Yellow</td>\n",
              "    </tr>\n",
              "    <tr>\n",
              "      <th>3</th>\n",
              "      <td>Ana Gromek</td>\n",
              "      <td>29</td>\n",
              "      <td>PL</td>\n",
              "      <td>1</td>\n",
              "      <td>Blue</td>\n",
              "    </tr>\n",
              "    <tr>\n",
              "      <th>4</th>\n",
              "      <td>Shekhar Biswas</td>\n",
              "      <td>44</td>\n",
              "      <td>IN</td>\n",
              "      <td>1</td>\n",
              "      <td>Red</td>\n",
              "    </tr>\n",
              "    <tr>\n",
              "      <th>5</th>\n",
              "      <td>Muriel Adams</td>\n",
              "      <td>30</td>\n",
              "      <td>FR</td>\n",
              "      <td>2</td>\n",
              "      <td>Yellow</td>\n",
              "    </tr>\n",
              "    <tr>\n",
              "      <th>6</th>\n",
              "      <td>Saira Polom</td>\n",
              "      <td>25</td>\n",
              "      <td>IN</td>\n",
              "      <td>3</td>\n",
              "      <td>Blue</td>\n",
              "    </tr>\n",
              "    <tr>\n",
              "      <th>7</th>\n",
              "      <td>Alex Kubiak</td>\n",
              "      <td>71</td>\n",
              "      <td>PL</td>\n",
              "      <td>7</td>\n",
              "      <td>Blue</td>\n",
              "    </tr>\n",
              "    <tr>\n",
              "      <th>8</th>\n",
              "      <td>Kit Ching</td>\n",
              "      <td>35</td>\n",
              "      <td>UK</td>\n",
              "      <td>0</td>\n",
              "      <td>Red</td>\n",
              "    </tr>\n",
              "    <tr>\n",
              "      <th>9</th>\n",
              "      <td>Dog Woof</td>\n",
              "      <td>2</td>\n",
              "      <td>XX</td>\n",
              "      <td>9</td>\n",
              "      <td>Gray</td>\n",
              "    </tr>\n",
              "  </tbody>\n",
              "</table>\n",
              "</div>"
            ],
            "text/plain": [
              "               name  age country  siblings favourite_colour\n",
              "0  Erika Schumacher   22      DE         2              Red\n",
              "1        Javi López   50      ES         0           Yellow\n",
              "2      Maria Rovira   23      ES         4           Yellow\n",
              "3        Ana Gromek   29      PL         1             Blue\n",
              "4    Shekhar Biswas   44      IN         1              Red\n",
              "5      Muriel Adams   30      FR         2           Yellow\n",
              "6       Saira Polom   25      IN         3             Blue\n",
              "7       Alex Kubiak   71      PL         7             Blue\n",
              "8         Kit Ching   35      UK         0              Red\n",
              "9          Dog Woof    2      XX         9             Gray"
            ]
          },
          "execution_count": 4,
          "metadata": {},
          "output_type": "execute_result"
        }
      ],
      "source": [
        "people"
      ]
    },
    {
      "cell_type": "markdown",
      "metadata": {
        "id": "FZVtG97q9M7h"
      },
      "source": [
        "> Note: a pandas Series is like a list, but it has an index and all of its elements must share the same data type. You can think of it as a \"single column DataFrame\".\n",
        "\n",
        "We can use this Series inside the `.loc[]` function we learned earlier to select only the rows that corrspond to the `True` values."
      ]
    },
    {
      "cell_type": "code",
      "execution_count": 5,
      "metadata": {
        "colab": {
          "base_uri": "https://localhost:8080/",
          "height": 143
        },
        "id": "VP9UXrozJ6AU",
        "outputId": "bd39033c-b1f7-42d7-e25d-c45486dbe5e3"
      },
      "outputs": [
        {
          "data": {
            "text/html": [
              "<div>\n",
              "<style scoped>\n",
              "    .dataframe tbody tr th:only-of-type {\n",
              "        vertical-align: middle;\n",
              "    }\n",
              "\n",
              "    .dataframe tbody tr th {\n",
              "        vertical-align: top;\n",
              "    }\n",
              "\n",
              "    .dataframe thead th {\n",
              "        text-align: right;\n",
              "    }\n",
              "</style>\n",
              "<table border=\"1\" class=\"dataframe\">\n",
              "  <thead>\n",
              "    <tr style=\"text-align: right;\">\n",
              "      <th></th>\n",
              "      <th>name</th>\n",
              "      <th>age</th>\n",
              "      <th>country</th>\n",
              "      <th>siblings</th>\n",
              "      <th>favourite_colour</th>\n",
              "    </tr>\n",
              "  </thead>\n",
              "  <tbody>\n",
              "    <tr>\n",
              "      <th>1</th>\n",
              "      <td>Javi López</td>\n",
              "      <td>50</td>\n",
              "      <td>ES</td>\n",
              "      <td>0</td>\n",
              "      <td>Yellow</td>\n",
              "    </tr>\n",
              "    <tr>\n",
              "      <th>2</th>\n",
              "      <td>Maria Rovira</td>\n",
              "      <td>23</td>\n",
              "      <td>ES</td>\n",
              "      <td>4</td>\n",
              "      <td>Yellow</td>\n",
              "    </tr>\n",
              "    <tr>\n",
              "      <th>5</th>\n",
              "      <td>Muriel Adams</td>\n",
              "      <td>30</td>\n",
              "      <td>FR</td>\n",
              "      <td>2</td>\n",
              "      <td>Yellow</td>\n",
              "    </tr>\n",
              "  </tbody>\n",
              "</table>\n",
              "</div>"
            ],
            "text/plain": [
              "           name  age country  siblings favourite_colour\n",
              "1    Javi López   50      ES         0           Yellow\n",
              "2  Maria Rovira   23      ES         4           Yellow\n",
              "5  Muriel Adams   30      FR         2           Yellow"
            ]
          },
          "execution_count": 5,
          "metadata": {},
          "output_type": "execute_result"
        }
      ],
      "source": [
        "people.loc[people[\"favourite_colour\"]==\"Yellow\", :]"
      ]
    },
    {
      "cell_type": "markdown",
      "metadata": {
        "id": "k_EFxLMWSc6R"
      },
      "source": [
        "The operators for boolean indexing are:\n",
        "* **|** for OR,\n",
        "* **&** for AND, and\n",
        "* **~** for NOT.\n",
        "\n",
        "These must be grouped by using parentheses."
      ]
    },
    {
      "cell_type": "markdown",
      "metadata": {
        "id": "f1Piej7-S7zw"
      },
      "source": [
        "Let's find out who does not come from Spain and has more than 3 siblings."
      ]
    },
    {
      "cell_type": "code",
      "execution_count": 6,
      "metadata": {
        "colab": {
          "base_uri": "https://localhost:8080/",
          "height": 112
        },
        "id": "PbrUpgK6TGZ0",
        "outputId": "c289fede-4cbf-49f6-daf4-fa6295030af8"
      },
      "outputs": [
        {
          "data": {
            "text/html": [
              "<div>\n",
              "<style scoped>\n",
              "    .dataframe tbody tr th:only-of-type {\n",
              "        vertical-align: middle;\n",
              "    }\n",
              "\n",
              "    .dataframe tbody tr th {\n",
              "        vertical-align: top;\n",
              "    }\n",
              "\n",
              "    .dataframe thead th {\n",
              "        text-align: right;\n",
              "    }\n",
              "</style>\n",
              "<table border=\"1\" class=\"dataframe\">\n",
              "  <thead>\n",
              "    <tr style=\"text-align: right;\">\n",
              "      <th></th>\n",
              "      <th>name</th>\n",
              "      <th>age</th>\n",
              "      <th>country</th>\n",
              "      <th>siblings</th>\n",
              "      <th>favourite_colour</th>\n",
              "    </tr>\n",
              "  </thead>\n",
              "  <tbody>\n",
              "    <tr>\n",
              "      <th>7</th>\n",
              "      <td>Alex Kubiak</td>\n",
              "      <td>71</td>\n",
              "      <td>PL</td>\n",
              "      <td>7</td>\n",
              "      <td>Blue</td>\n",
              "    </tr>\n",
              "    <tr>\n",
              "      <th>9</th>\n",
              "      <td>Dog Woof</td>\n",
              "      <td>2</td>\n",
              "      <td>XX</td>\n",
              "      <td>9</td>\n",
              "      <td>Gray</td>\n",
              "    </tr>\n",
              "  </tbody>\n",
              "</table>\n",
              "</div>"
            ],
            "text/plain": [
              "          name  age country  siblings favourite_colour\n",
              "7  Alex Kubiak   71      PL         7             Blue\n",
              "9     Dog Woof    2      XX         9             Gray"
            ]
          },
          "execution_count": 6,
          "metadata": {},
          "output_type": "execute_result"
        }
      ],
      "source": [
        "people.loc[~(people[\"country\"]==\"ES\") & (people[\"siblings\"]>3), :]"
      ]
    },
    {
      "cell_type": "code",
      "execution_count": 7,
      "metadata": {
        "colab": {
          "base_uri": "https://localhost:8080/",
          "height": 112
        },
        "id": "ENlaGIwTasOO",
        "outputId": "8945fbdc-7b53-49ab-8b3d-f2bf1184831f"
      },
      "outputs": [
        {
          "data": {
            "text/html": [
              "<div>\n",
              "<style scoped>\n",
              "    .dataframe tbody tr th:only-of-type {\n",
              "        vertical-align: middle;\n",
              "    }\n",
              "\n",
              "    .dataframe tbody tr th {\n",
              "        vertical-align: top;\n",
              "    }\n",
              "\n",
              "    .dataframe thead th {\n",
              "        text-align: right;\n",
              "    }\n",
              "</style>\n",
              "<table border=\"1\" class=\"dataframe\">\n",
              "  <thead>\n",
              "    <tr style=\"text-align: right;\">\n",
              "      <th></th>\n",
              "      <th>name</th>\n",
              "      <th>age</th>\n",
              "      <th>country</th>\n",
              "      <th>siblings</th>\n",
              "      <th>favourite_colour</th>\n",
              "    </tr>\n",
              "  </thead>\n",
              "  <tbody>\n",
              "    <tr>\n",
              "      <th>7</th>\n",
              "      <td>Alex Kubiak</td>\n",
              "      <td>71</td>\n",
              "      <td>PL</td>\n",
              "      <td>7</td>\n",
              "      <td>Blue</td>\n",
              "    </tr>\n",
              "    <tr>\n",
              "      <th>9</th>\n",
              "      <td>Dog Woof</td>\n",
              "      <td>2</td>\n",
              "      <td>XX</td>\n",
              "      <td>9</td>\n",
              "      <td>Gray</td>\n",
              "    </tr>\n",
              "  </tbody>\n",
              "</table>\n",
              "</div>"
            ],
            "text/plain": [
              "          name  age country  siblings favourite_colour\n",
              "7  Alex Kubiak   71      PL         7             Blue\n",
              "9     Dog Woof    2      XX         9             Gray"
            ]
          },
          "execution_count": 7,
          "metadata": {},
          "output_type": "execute_result"
        }
      ],
      "source": [
        "# alternative code to achieve the same result: using != instead of ~\n",
        "people.loc[(people[\"country\"]!=\"ES\") & (people[\"siblings\"]>3), :]"
      ]
    },
    {
      "cell_type": "markdown",
      "metadata": {
        "id": "lKZb9ILbV3Mt"
      },
      "source": [
        "## 2.&nbsp;Challenges"
      ]
    },
    {
      "cell_type": "markdown",
      "metadata": {
        "id": "Mp6SW5V09M7i"
      },
      "source": [
        "### Exercise 1"
      ]
    },
    {
      "cell_type": "markdown",
      "metadata": {
        "id": "YDxWk7VqV_yW"
      },
      "source": [
        "Filter the `people` DataFrame and keep only people from the UK."
      ]
    },
    {
      "cell_type": "code",
      "execution_count": 8,
      "metadata": {
        "colab": {
          "base_uri": "https://localhost:8080/",
          "height": 81
        },
        "id": "ydywm1FL9M7i",
        "outputId": "d2cb1095-d246-49e5-c563-7ad1a22957e2"
      },
      "outputs": [
        {
          "data": {
            "text/html": [
              "<div>\n",
              "<style scoped>\n",
              "    .dataframe tbody tr th:only-of-type {\n",
              "        vertical-align: middle;\n",
              "    }\n",
              "\n",
              "    .dataframe tbody tr th {\n",
              "        vertical-align: top;\n",
              "    }\n",
              "\n",
              "    .dataframe thead th {\n",
              "        text-align: right;\n",
              "    }\n",
              "</style>\n",
              "<table border=\"1\" class=\"dataframe\">\n",
              "  <thead>\n",
              "    <tr style=\"text-align: right;\">\n",
              "      <th></th>\n",
              "      <th>name</th>\n",
              "      <th>age</th>\n",
              "      <th>country</th>\n",
              "      <th>siblings</th>\n",
              "      <th>favourite_colour</th>\n",
              "    </tr>\n",
              "  </thead>\n",
              "  <tbody>\n",
              "    <tr>\n",
              "      <th>8</th>\n",
              "      <td>Kit Ching</td>\n",
              "      <td>35</td>\n",
              "      <td>UK</td>\n",
              "      <td>0</td>\n",
              "      <td>Red</td>\n",
              "    </tr>\n",
              "  </tbody>\n",
              "</table>\n",
              "</div>"
            ],
            "text/plain": [
              "        name  age country  siblings favourite_colour\n",
              "8  Kit Ching   35      UK         0              Red"
            ]
          },
          "execution_count": 8,
          "metadata": {},
          "output_type": "execute_result"
        }
      ],
      "source": [
        "people.loc[people['country']=='UK',:]"
      ]
    },
    {
      "cell_type": "markdown",
      "metadata": {
        "id": "Ya7Vf2lr9M7j"
      },
      "source": [
        "### Exercise 2"
      ]
    },
    {
      "cell_type": "markdown",
      "metadata": {
        "id": "1uiQS5-zWgrw"
      },
      "source": [
        "Filter the `people` DataFrame and keep only people from either India or France."
      ]
    },
    {
      "cell_type": "code",
      "execution_count": 9,
      "metadata": {
        "colab": {
          "base_uri": "https://localhost:8080/",
          "height": 143
        },
        "collapsed": true,
        "id": "mE82JS2R9M7j",
        "jupyter": {
          "outputs_hidden": true
        },
        "outputId": "f30ca079-6a1a-409b-b56b-78f86fe14ec9"
      },
      "outputs": [
        {
          "data": {
            "text/html": [
              "<div>\n",
              "<style scoped>\n",
              "    .dataframe tbody tr th:only-of-type {\n",
              "        vertical-align: middle;\n",
              "    }\n",
              "\n",
              "    .dataframe tbody tr th {\n",
              "        vertical-align: top;\n",
              "    }\n",
              "\n",
              "    .dataframe thead th {\n",
              "        text-align: right;\n",
              "    }\n",
              "</style>\n",
              "<table border=\"1\" class=\"dataframe\">\n",
              "  <thead>\n",
              "    <tr style=\"text-align: right;\">\n",
              "      <th></th>\n",
              "      <th>name</th>\n",
              "      <th>age</th>\n",
              "      <th>country</th>\n",
              "      <th>siblings</th>\n",
              "      <th>favourite_colour</th>\n",
              "    </tr>\n",
              "  </thead>\n",
              "  <tbody>\n",
              "    <tr>\n",
              "      <th>4</th>\n",
              "      <td>Shekhar Biswas</td>\n",
              "      <td>44</td>\n",
              "      <td>IN</td>\n",
              "      <td>1</td>\n",
              "      <td>Red</td>\n",
              "    </tr>\n",
              "    <tr>\n",
              "      <th>5</th>\n",
              "      <td>Muriel Adams</td>\n",
              "      <td>30</td>\n",
              "      <td>FR</td>\n",
              "      <td>2</td>\n",
              "      <td>Yellow</td>\n",
              "    </tr>\n",
              "    <tr>\n",
              "      <th>6</th>\n",
              "      <td>Saira Polom</td>\n",
              "      <td>25</td>\n",
              "      <td>IN</td>\n",
              "      <td>3</td>\n",
              "      <td>Blue</td>\n",
              "    </tr>\n",
              "  </tbody>\n",
              "</table>\n",
              "</div>"
            ],
            "text/plain": [
              "             name  age country  siblings favourite_colour\n",
              "4  Shekhar Biswas   44      IN         1              Red\n",
              "5    Muriel Adams   30      FR         2           Yellow\n",
              "6     Saira Polom   25      IN         3             Blue"
            ]
          },
          "execution_count": 9,
          "metadata": {},
          "output_type": "execute_result"
        }
      ],
      "source": [
        "people.loc[(people['country']=='IN')| (people['country']=='FR'),:]"
      ]
    },
    {
      "cell_type": "markdown",
      "metadata": {
        "id": "p_O8Lw7_9M7j"
      },
      "source": [
        "### Exercise 3"
      ]
    },
    {
      "cell_type": "markdown",
      "metadata": {
        "id": "UsG9btABW6Sg"
      },
      "source": [
        "Filter the `people` DataFrame and keep only people from either Poland or Germany who have 2 or more siblings."
      ]
    },
    {
      "cell_type": "code",
      "execution_count": 15,
      "metadata": {
        "colab": {
          "base_uri": "https://localhost:8080/",
          "height": 112
        },
        "collapsed": true,
        "id": "GpdQI0b19M7k",
        "jupyter": {
          "outputs_hidden": true
        },
        "outputId": "2307f685-8f39-45c7-b8c7-54ef254c4778"
      },
      "outputs": [
        {
          "data": {
            "text/html": [
              "\n",
              "  <div id=\"df-8633dfd6-2166-4bac-9582-95d2e28a3a0c\" class=\"colab-df-container\">\n",
              "    <div>\n",
              "<style scoped>\n",
              "    .dataframe tbody tr th:only-of-type {\n",
              "        vertical-align: middle;\n",
              "    }\n",
              "\n",
              "    .dataframe tbody tr th {\n",
              "        vertical-align: top;\n",
              "    }\n",
              "\n",
              "    .dataframe thead th {\n",
              "        text-align: right;\n",
              "    }\n",
              "</style>\n",
              "<table border=\"1\" class=\"dataframe\">\n",
              "  <thead>\n",
              "    <tr style=\"text-align: right;\">\n",
              "      <th></th>\n",
              "      <th>name</th>\n",
              "      <th>age</th>\n",
              "      <th>country</th>\n",
              "      <th>siblings</th>\n",
              "      <th>favourite_colour</th>\n",
              "    </tr>\n",
              "  </thead>\n",
              "  <tbody>\n",
              "    <tr>\n",
              "      <th>0</th>\n",
              "      <td>Erika Schumacher</td>\n",
              "      <td>22</td>\n",
              "      <td>DE</td>\n",
              "      <td>2</td>\n",
              "      <td>Red</td>\n",
              "    </tr>\n",
              "    <tr>\n",
              "      <th>7</th>\n",
              "      <td>Alex Kubiak</td>\n",
              "      <td>71</td>\n",
              "      <td>PL</td>\n",
              "      <td>7</td>\n",
              "      <td>Blue</td>\n",
              "    </tr>\n",
              "  </tbody>\n",
              "</table>\n",
              "</div>\n",
              "    <div class=\"colab-df-buttons\">\n",
              "\n",
              "  <div class=\"colab-df-container\">\n",
              "    <button class=\"colab-df-convert\" onclick=\"convertToInteractive('df-8633dfd6-2166-4bac-9582-95d2e28a3a0c')\"\n",
              "            title=\"Convert this dataframe to an interactive table.\"\n",
              "            style=\"display:none;\">\n",
              "\n",
              "  <svg xmlns=\"http://www.w3.org/2000/svg\" height=\"24px\" viewBox=\"0 -960 960 960\">\n",
              "    <path d=\"M120-120v-720h720v720H120Zm60-500h600v-160H180v160Zm220 220h160v-160H400v160Zm0 220h160v-160H400v160ZM180-400h160v-160H180v160Zm440 0h160v-160H620v160ZM180-180h160v-160H180v160Zm440 0h160v-160H620v160Z\"/>\n",
              "  </svg>\n",
              "    </button>\n",
              "\n",
              "  <style>\n",
              "    .colab-df-container {\n",
              "      display:flex;\n",
              "      gap: 12px;\n",
              "    }\n",
              "\n",
              "    .colab-df-convert {\n",
              "      background-color: #E8F0FE;\n",
              "      border: none;\n",
              "      border-radius: 50%;\n",
              "      cursor: pointer;\n",
              "      display: none;\n",
              "      fill: #1967D2;\n",
              "      height: 32px;\n",
              "      padding: 0 0 0 0;\n",
              "      width: 32px;\n",
              "    }\n",
              "\n",
              "    .colab-df-convert:hover {\n",
              "      background-color: #E2EBFA;\n",
              "      box-shadow: 0px 1px 2px rgba(60, 64, 67, 0.3), 0px 1px 3px 1px rgba(60, 64, 67, 0.15);\n",
              "      fill: #174EA6;\n",
              "    }\n",
              "\n",
              "    .colab-df-buttons div {\n",
              "      margin-bottom: 4px;\n",
              "    }\n",
              "\n",
              "    [theme=dark] .colab-df-convert {\n",
              "      background-color: #3B4455;\n",
              "      fill: #D2E3FC;\n",
              "    }\n",
              "\n",
              "    [theme=dark] .colab-df-convert:hover {\n",
              "      background-color: #434B5C;\n",
              "      box-shadow: 0px 1px 3px 1px rgba(0, 0, 0, 0.15);\n",
              "      filter: drop-shadow(0px 1px 2px rgba(0, 0, 0, 0.3));\n",
              "      fill: #FFFFFF;\n",
              "    }\n",
              "  </style>\n",
              "\n",
              "    <script>\n",
              "      const buttonEl =\n",
              "        document.querySelector('#df-8633dfd6-2166-4bac-9582-95d2e28a3a0c button.colab-df-convert');\n",
              "      buttonEl.style.display =\n",
              "        google.colab.kernel.accessAllowed ? 'block' : 'none';\n",
              "\n",
              "      async function convertToInteractive(key) {\n",
              "        const element = document.querySelector('#df-8633dfd6-2166-4bac-9582-95d2e28a3a0c');\n",
              "        const dataTable =\n",
              "          await google.colab.kernel.invokeFunction('convertToInteractive',\n",
              "                                                    [key], {});\n",
              "        if (!dataTable) return;\n",
              "\n",
              "        const docLinkHtml = 'Like what you see? Visit the ' +\n",
              "          '<a target=\"_blank\" href=https://colab.research.google.com/notebooks/data_table.ipynb>data table notebook</a>'\n",
              "          + ' to learn more about interactive tables.';\n",
              "        element.innerHTML = '';\n",
              "        dataTable['output_type'] = 'display_data';\n",
              "        await google.colab.output.renderOutput(dataTable, element);\n",
              "        const docLink = document.createElement('div');\n",
              "        docLink.innerHTML = docLinkHtml;\n",
              "        element.appendChild(docLink);\n",
              "      }\n",
              "    </script>\n",
              "  </div>\n",
              "\n",
              "\n",
              "<div id=\"df-9a8aa07c-ce9f-430d-bb2f-90e84836680a\">\n",
              "  <button class=\"colab-df-quickchart\" onclick=\"quickchart('df-9a8aa07c-ce9f-430d-bb2f-90e84836680a')\"\n",
              "            title=\"Suggest charts\"\n",
              "            style=\"display:none;\">\n",
              "\n",
              "<svg xmlns=\"http://www.w3.org/2000/svg\" height=\"24px\"viewBox=\"0 0 24 24\"\n",
              "     width=\"24px\">\n",
              "    <g>\n",
              "        <path d=\"M19 3H5c-1.1 0-2 .9-2 2v14c0 1.1.9 2 2 2h14c1.1 0 2-.9 2-2V5c0-1.1-.9-2-2-2zM9 17H7v-7h2v7zm4 0h-2V7h2v10zm4 0h-2v-4h2v4z\"/>\n",
              "    </g>\n",
              "</svg>\n",
              "  </button>\n",
              "\n",
              "<style>\n",
              "  .colab-df-quickchart {\n",
              "      --bg-color: #E8F0FE;\n",
              "      --fill-color: #1967D2;\n",
              "      --hover-bg-color: #E2EBFA;\n",
              "      --hover-fill-color: #174EA6;\n",
              "      --disabled-fill-color: #AAA;\n",
              "      --disabled-bg-color: #DDD;\n",
              "  }\n",
              "\n",
              "  [theme=dark] .colab-df-quickchart {\n",
              "      --bg-color: #3B4455;\n",
              "      --fill-color: #D2E3FC;\n",
              "      --hover-bg-color: #434B5C;\n",
              "      --hover-fill-color: #FFFFFF;\n",
              "      --disabled-bg-color: #3B4455;\n",
              "      --disabled-fill-color: #666;\n",
              "  }\n",
              "\n",
              "  .colab-df-quickchart {\n",
              "    background-color: var(--bg-color);\n",
              "    border: none;\n",
              "    border-radius: 50%;\n",
              "    cursor: pointer;\n",
              "    display: none;\n",
              "    fill: var(--fill-color);\n",
              "    height: 32px;\n",
              "    padding: 0;\n",
              "    width: 32px;\n",
              "  }\n",
              "\n",
              "  .colab-df-quickchart:hover {\n",
              "    background-color: var(--hover-bg-color);\n",
              "    box-shadow: 0 1px 2px rgba(60, 64, 67, 0.3), 0 1px 3px 1px rgba(60, 64, 67, 0.15);\n",
              "    fill: var(--button-hover-fill-color);\n",
              "  }\n",
              "\n",
              "  .colab-df-quickchart-complete:disabled,\n",
              "  .colab-df-quickchart-complete:disabled:hover {\n",
              "    background-color: var(--disabled-bg-color);\n",
              "    fill: var(--disabled-fill-color);\n",
              "    box-shadow: none;\n",
              "  }\n",
              "\n",
              "  .colab-df-spinner {\n",
              "    border: 2px solid var(--fill-color);\n",
              "    border-color: transparent;\n",
              "    border-bottom-color: var(--fill-color);\n",
              "    animation:\n",
              "      spin 1s steps(1) infinite;\n",
              "  }\n",
              "\n",
              "  @keyframes spin {\n",
              "    0% {\n",
              "      border-color: transparent;\n",
              "      border-bottom-color: var(--fill-color);\n",
              "      border-left-color: var(--fill-color);\n",
              "    }\n",
              "    20% {\n",
              "      border-color: transparent;\n",
              "      border-left-color: var(--fill-color);\n",
              "      border-top-color: var(--fill-color);\n",
              "    }\n",
              "    30% {\n",
              "      border-color: transparent;\n",
              "      border-left-color: var(--fill-color);\n",
              "      border-top-color: var(--fill-color);\n",
              "      border-right-color: var(--fill-color);\n",
              "    }\n",
              "    40% {\n",
              "      border-color: transparent;\n",
              "      border-right-color: var(--fill-color);\n",
              "      border-top-color: var(--fill-color);\n",
              "    }\n",
              "    60% {\n",
              "      border-color: transparent;\n",
              "      border-right-color: var(--fill-color);\n",
              "    }\n",
              "    80% {\n",
              "      border-color: transparent;\n",
              "      border-right-color: var(--fill-color);\n",
              "      border-bottom-color: var(--fill-color);\n",
              "    }\n",
              "    90% {\n",
              "      border-color: transparent;\n",
              "      border-bottom-color: var(--fill-color);\n",
              "    }\n",
              "  }\n",
              "</style>\n",
              "\n",
              "  <script>\n",
              "    async function quickchart(key) {\n",
              "      const quickchartButtonEl =\n",
              "        document.querySelector('#' + key + ' button');\n",
              "      quickchartButtonEl.disabled = true;  // To prevent multiple clicks.\n",
              "      quickchartButtonEl.classList.add('colab-df-spinner');\n",
              "      try {\n",
              "        const charts = await google.colab.kernel.invokeFunction(\n",
              "            'suggestCharts', [key], {});\n",
              "      } catch (error) {\n",
              "        console.error('Error during call to suggestCharts:', error);\n",
              "      }\n",
              "      quickchartButtonEl.classList.remove('colab-df-spinner');\n",
              "      quickchartButtonEl.classList.add('colab-df-quickchart-complete');\n",
              "    }\n",
              "    (() => {\n",
              "      let quickchartButtonEl =\n",
              "        document.querySelector('#df-9a8aa07c-ce9f-430d-bb2f-90e84836680a button');\n",
              "      quickchartButtonEl.style.display =\n",
              "        google.colab.kernel.accessAllowed ? 'block' : 'none';\n",
              "    })();\n",
              "  </script>\n",
              "</div>\n",
              "    </div>\n",
              "  </div>\n"
            ],
            "text/plain": [
              "               name  age country  siblings favourite_colour\n",
              "0  Erika Schumacher   22      DE         2              Red\n",
              "7       Alex Kubiak   71      PL         7             Blue"
            ]
          },
          "execution_count": 15,
          "metadata": {},
          "output_type": "execute_result"
        }
      ],
      "source": [
        "people.loc[((people['country']=='PL')| (people['country']=='DE')) & (people['siblings']>=2),:]"
      ]
    }
  ],
  "metadata": {
    "colab": {
      "provenance": []
    },
    "kernelspec": {
      "display_name": "Python 3",
      "language": "python",
      "name": "python3"
    },
    "language_info": {
      "codemirror_mode": {
        "name": "ipython",
        "version": 3
      },
      "file_extension": ".py",
      "mimetype": "text/x-python",
      "name": "python",
      "nbconvert_exporter": "python",
      "pygments_lexer": "ipython3",
      "version": "3.11.0"
    }
  },
  "nbformat": 4,
  "nbformat_minor": 0
}
